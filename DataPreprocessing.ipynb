{
  "cells": [
    {
      "cell_type": "markdown",
      "metadata": {
        "id": "X_fFy2vyspxO"
      },
      "source": [
        "Split the data into training, test, and validation folders"
      ]
    },
    {
      "cell_type": "code",
      "execution_count": null,
      "metadata": {
        "collapsed": true,
        "id": "Qq-03E7Hjq0U"
      },
      "outputs": [],
      "source": [
        "!pip install patchify\n",
        "\n",
        "from IPython.display import clear_output\n",
        "clear_output()"
      ]
    },
    {
      "cell_type": "code",
      "execution_count": null,
      "metadata": {
        "id": "Vzni_CferKMy"
      },
      "outputs": [],
      "source": [
        "# %% Purpose:\n",
        "# 1. Prepare images and masks folder within train, val, test folder\n",
        "# 2. copy all images into these folders\n",
        "# 3. create patches of images\n",
        "#%% Packages\n",
        "import os\n",
        "import re\n",
        "from pathlib import Path\n",
        "import numpy as np\n",
        "import math\n",
        "from patchify import patchify\n",
        "from PIL import Image\n",
        "import shutil\n",
        "import cv2\n",
        "\n",
        "import numpy as np\n",
        "\n",
        "import seaborn as sns\n",
        "import matplotlib.pyplot as plt\n",
        "\n",
        "\n",
        "#%% Constants\n",
        "#DEVICE = \"cuda\" if torch.cuda.is_available() else \"cpu\""
      ]
    },
    {
      "cell_type": "markdown",
      "source": [
        "**UTILITY FUNCTIONS**"
      ],
      "metadata": {
        "id": "-oLNYQ_Gp8Uk"
      }
    },
    {
      "cell_type": "code",
      "execution_count": null,
      "metadata": {
        "id": "EufmGaU9MMkU"
      },
      "outputs": [],
      "source": [
        "\"\"\"\n",
        "Deletes train, val, and test folders\n",
        "input parameters:\n",
        "    dest: path to the destination directory\n",
        "\n",
        "returns: None\n",
        "\"\"\"\n",
        "def delete_split_folders(dest):\n",
        "    FOLDERS = ['train', 'val', 'test']\n",
        "    for folder in FOLDERS:\n",
        "        dest_folder = os.path.join(dest, folder)\n",
        "\n",
        "        if os.path.exists(dest_folder):\n",
        "          #delete folder if exists\n",
        "          shutil.rmtree(dest_folder)\n",
        "\n",
        "\n",
        "\n",
        "\"\"\"\n",
        "Creates train, val, and test folders\n",
        "input parameters:\n",
        "    dest: path to the destination directory\n",
        "\n",
        "returns: None\n",
        "\"\"\"\n",
        "def create_split_folders(dest):\n",
        "    FOLDERS = ['train', 'val', 'test']\n",
        "    for folder in FOLDERS:\n",
        "        dest_folder = os.path.join(dest, folder)\n",
        "        if not os.path.exists(dest_folder):\n",
        "            folder_imgs = f\"{dest_folder}/images\"\n",
        "            folder_msks = f\"{dest_folder}/masks\"\n",
        "            os.makedirs(folder_imgs) if not os.path.exists(folder_imgs) else print('folder already exists')\n",
        "            os.makedirs(folder_msks) if not os.path.exists(folder_msks) else print('folder already exists')\n",
        "\n",
        "    models_folder = os.path.join(dest, \"models\")\n",
        "    if not os.path.exists(models_folder):\n",
        "        os.makedirs(models_folder) if not os.path.exists(models_folder) else print('folder already exists')\n",
        "\n",
        "\n",
        "\n",
        "\"\"\"\n",
        "Splits the data into train, val, and test folders\n",
        "input parameters:\n",
        "    data_dir: path to the data directory\n",
        "    train_ratio: ratio of the data to be used for training\n",
        "    val_ratio: ratio of the data to be used for validation\n",
        "\n",
        "returns:\n",
        "    train_list: list of filenames to be used for training\n",
        "    val_list: list of filenames to be used for validation\n",
        "    test_list: list of filenames to be used for testing\n",
        "\"\"\"\n",
        "def split_train_test_val_folders(data_dir, train_ratio, val_ratio):\n",
        "  #get list of filenames in the data directory\n",
        "  file_list = os.listdir(data_dir)\n",
        "  np.random.shuffle(file_list)\n",
        "\n",
        "\n",
        "  train_size = int(len(file_list) * train_ratio)\n",
        "  val_size = int(len(file_list) * val_ratio)\n",
        "\n",
        "  train_files = file_list[:train_size]\n",
        "  train_list = [x[6:10] for x in train_files]\n",
        "  val_files   = file_list[train_size:train_size + val_size]\n",
        "  val_list = [x[6:10] for x in val_files]\n",
        "  test_files  = file_list[train_size + val_size:]\n",
        "  test_list = [x[6:10] for x in test_files]\n",
        "  return train_list, val_list, test_list\n"
      ]
    },
    {
      "cell_type": "markdown",
      "metadata": {
        "id": "2lLye9D7Mmv3"
      },
      "source": [
        "**CREATE PATCHES**"
      ]
    },
    {
      "cell_type": "code",
      "execution_count": null,
      "metadata": {
        "id": "Pq78TeN9MpAl"
      },
      "outputs": [],
      "source": [
        "\"\"\"\n",
        "Creates patches(smaller symmetric splits) of images\n",
        "input parameters:\n",
        "    src: path to the source image\n",
        "    dest_path: path to the destination folder\n",
        "\n",
        "returns: None\n",
        "\"\"\"\n",
        "def create_patches(src, dest_path):\n",
        "    path_split = os.path.split(src)\n",
        "    image = Image.open(src)\n",
        "    image = np.asarray(image)\n",
        "    if len(image.shape) > 2:  # only if color channel exists as well\n",
        "        patches = patchify(image, (224, 224, 3), step=300)\n",
        "        file_name_wo_ext = Path(src).stem\n",
        "        for i in range(patches.shape[0]):\n",
        "            for j in range(patches.shape[1]):\n",
        "                patch = patches[i, j, 0]\n",
        "                patch = Image.fromarray(patch)\n",
        "                num = i * patches.shape[1] + j\n",
        "                patch.save(f\"{dest_path}/{file_name_wo_ext}_patch_{num}.png\")\n",
        "\n",
        "\"\"\"\n",
        "Splits the data into train, val, and test folders\n",
        "input parameters:\n",
        "    src_dir: path to the source directory\n",
        "    dest_dir: path to the destination directory\n",
        "    train_list: list of filenames to be used for training\n",
        "    val_list: list of filenames to be used for validation\n",
        "    test_list: list of filenames to be used for testing\n",
        "\n",
        "returns: None\n",
        "\"\"\"\n",
        "def preprocess_data(src_dir, dest_dir, train_list, val_list, test_list):\n",
        "    for path_name, _, file_name in os.walk(src_dir):\n",
        "      for f in file_name:\n",
        "        path_split = os.path.split(path_name)\n",
        "        img_type = path_split[1]  # either 'clean which are masks' or 'render which are images'\n",
        "\n",
        "        #get the file number\n",
        "        if img_type == 'render' or img_type == 'ground':\n",
        "          file_num = f[6:10]\n",
        "        elif img_type == 'clean':\n",
        "          file_num = f[5:9]\n",
        "        else:\n",
        "          print(f\"unknown type {img_type}\")\n",
        "          return\n",
        "\n",
        "        if file_num in val_list:\n",
        "            target_folder = os.path.join(dest_dir, 'val')\n",
        "        elif file_num in test_list:\n",
        "            target_folder = os.path.join(dest_dir, 'test')\n",
        "        elif file_num in train_list:\n",
        "            target_folder = os.path.join(dest_dir, 'train')\n",
        "        else:\n",
        "          print(f\"unknown list for {file_num}\")\n",
        "          return\n",
        "\n",
        "        # copy all images\n",
        "        src = os.path.join(path_name, f)\n",
        "\n",
        "        # create patches\n",
        "        if img_type == 'render':\n",
        "            dest = os.path.join(target_folder, \"images\")\n",
        "            create_patches(src=src, dest_path=dest)\n",
        "\n",
        "        # copy all masks\n",
        "        if img_type == 'clean':\n",
        "            dest = os.path.join(target_folder, \"masks\")\n",
        "            create_patches(src=src, dest_path=dest)"
      ]
    },
    {
      "cell_type": "markdown",
      "metadata": {
        "id": "Daje9xbyJqaP"
      },
      "source": [
        "**PREPROCESSING**"
      ]
    },
    {
      "cell_type": "code",
      "execution_count": null,
      "metadata": {
        "id": "noUE_6oPsA-T"
      },
      "outputs": [],
      "source": [
        "data_dir = Path('drive/MyDrive/MoonImages/')\n",
        "working_dir = working_dir = Path('.') #Path('drive/MyDrive/MoonWorking/')\n",
        "render_dir = data_dir/\"render/\"\n",
        "\n",
        "\n",
        "#delete_split_folders(working_dir)\n",
        "create_split_folders(working_dir)\n",
        "train_list, val_list, test_list = split_train_test_val_folders(render_dir, train_ratio=0.7, val_ratio=0.15)\n",
        "preprocess_data(data_dir, working_dir, train_list, val_list, test_list)\n"
      ]
    }
  ],
  "metadata": {
    "colab": {
      "provenance": [],
      "gpuType": "T4"
    },
    "kernelspec": {
      "display_name": "Python 3",
      "name": "python3"
    },
    "language_info": {
      "name": "python"
    },
    "accelerator": "GPU"
  },
  "nbformat": 4,
  "nbformat_minor": 0
}