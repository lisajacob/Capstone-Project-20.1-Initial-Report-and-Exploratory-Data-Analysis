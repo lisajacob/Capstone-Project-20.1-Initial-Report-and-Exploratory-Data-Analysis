{
  "cells": [
    {
      "cell_type": "markdown",
      "metadata": {
        "id": "X_fFy2vyspxO"
      },
      "source": [
        "Split the data into training, test, and validation folders"
      ]
    },
    {
      "cell_type": "code",
      "execution_count": null,
      "metadata": {
        "collapsed": true,
        "id": "Qq-03E7Hjq0U"
      },
      "outputs": [],
      "source": [
        "!pip install patchify\n",
        "!pip install segmentation-models-pytorch\n",
        "!pip install torchmetrics\n",
        "!pip install torch_snippets pytorch_model_summary\n",
        "from IPython.display import clear_output\n",
        "clear_output()"
      ]
    },
    {
      "cell_type": "code",
      "execution_count": null,
      "metadata": {
        "id": "Vzni_CferKMy"
      },
      "outputs": [],
      "source": [
        "# %% Purpose:\n",
        "# 1. Prepare images and masks folder within train, val, test folder\n",
        "# 2. copy all images into these folders\n",
        "# 3. create patches of images\n",
        "#%% Packages\n",
        "import os\n",
        "import re\n",
        "from pathlib import Path\n",
        "import numpy as np\n",
        "import math\n",
        "from patchify import patchify\n",
        "from PIL import Image\n",
        "import shutil\n",
        "\n",
        "from torch.utils.data import Dataset\n",
        "import cv2\n",
        "\n",
        "import numpy as np\n",
        "import torch\n",
        "import torch.nn as nn\n",
        "\n",
        "from torch.utils.data import DataLoader\n",
        "import segmentation_models_pytorch as smp\n",
        "import seaborn as sns\n",
        "import matplotlib.pyplot as plt\n",
        "\n",
        "\n",
        "from torch_snippets import *\n",
        "\n",
        "import torchmetrics\n",
        "\n",
        "#%% Constants\n",
        "DEVICE = \"cuda\" if torch.cuda.is_available() else \"cpu\""
      ]
    },
    {
      "cell_type": "code",
      "source": [
        "print(DEVICE)"
      ],
      "metadata": {
        "colab": {
          "base_uri": "https://localhost:8080/"
        },
        "id": "cmnFhHuUdqtZ",
        "outputId": "4eb29ad5-ae12-4dbc-a4de-c01f78e56f64"
      },
      "execution_count": null,
      "outputs": [
        {
          "output_type": "stream",
          "name": "stdout",
          "text": [
            "cuda\n"
          ]
        }
      ]
    },
    {
      "cell_type": "markdown",
      "source": [
        "**UTILITY FUNCTIONS**"
      ],
      "metadata": {
        "id": "-oLNYQ_Gp8Uk"
      }
    },
    {
      "cell_type": "code",
      "execution_count": null,
      "metadata": {
        "id": "EufmGaU9MMkU"
      },
      "outputs": [],
      "source": [
        "\n",
        "def delete_split_folders(dest):\n",
        "    FOLDERS = ['train', 'val', 'test']\n",
        "    for folder in FOLDERS:\n",
        "        dest_folder = os.path.join(dest, folder)\n",
        "        #print(dest_folder)\n",
        "        if os.path.exists(dest_folder):\n",
        "          #delete folder if exists\n",
        "          shutil.rmtree(dest_folder)\n",
        "\n",
        "\n",
        "def create_split_folders(dest):\n",
        "    FOLDERS = ['train', 'val', 'test']\n",
        "    for folder in FOLDERS:\n",
        "        dest_folder = os.path.join(dest, folder)\n",
        "        if not os.path.exists(dest_folder):\n",
        "            folder_imgs = f\"{dest_folder}/images\"\n",
        "            folder_msks = f\"{dest_folder}/masks\"\n",
        "            os.makedirs(folder_imgs) if not os.path.exists(folder_imgs) else print('folder already exists')\n",
        "            os.makedirs(folder_msks) if not os.path.exists(folder_msks) else print('folder already exists')\n",
        "\n",
        "    models_folder = os.path.join(dest, \"models\")\n",
        "    if not os.path.exists(models_folder):\n",
        "        os.makedirs(models_folder) if not os.path.exists(models_folder) else print('folder already exists')\n",
        "\n",
        "\n",
        "def split_train_test_val_folders(data_dir, train_ratio, val_ratio):\n",
        "  #get list of filenames in the data directory\n",
        "  file_list = os.listdir(data_dir)\n",
        "  np.random.shuffle(file_list)\n",
        "\n",
        "\n",
        "  train_size = int(len(file_list) * train_ratio)\n",
        "  val_size = int(len(file_list) * val_ratio)\n",
        "\n",
        "  train_files = file_list[:train_size]\n",
        "  train_list = [x[6:10] for x in train_files]\n",
        "  val_files   = file_list[train_size:train_size + val_size]\n",
        "  val_list = [x[6:10] for x in val_files]\n",
        "  test_files  = file_list[train_size + val_size:]\n",
        "  test_list = [x[6:10] for x in test_files]\n",
        "  return train_list, val_list, test_list\n"
      ]
    },
    {
      "cell_type": "markdown",
      "metadata": {
        "id": "2lLye9D7Mmv3"
      },
      "source": [
        "CREATE PATCHES"
      ]
    },
    {
      "cell_type": "code",
      "execution_count": null,
      "metadata": {
        "id": "Pq78TeN9MpAl"
      },
      "outputs": [],
      "source": [
        "def create_patches(src, dest_path):\n",
        "    path_split = os.path.split(src)\n",
        "    image = Image.open(src)\n",
        "    image = np.asarray(image)\n",
        "    if len(image.shape) > 2:  # only if color channel exists as well\n",
        "        patches = patchify(image, (224, 224, 3), step=300)\n",
        "        file_name_wo_ext = Path(src).stem\n",
        "        for i in range(patches.shape[0]):\n",
        "            for j in range(patches.shape[1]):\n",
        "                patch = patches[i, j, 0]\n",
        "                patch = Image.fromarray(patch)\n",
        "                num = i * patches.shape[1] + j\n",
        "                patch.save(f\"{dest_path}/{file_name_wo_ext}_patch_{num}.png\")\n",
        "\n",
        "\n",
        "def preprocess_data(src_dir, dest_dir, train_list, val_list, test_list):\n",
        "    for path_name, _, file_name in os.walk(src_dir):\n",
        "      for f in file_name:\n",
        "        path_split = os.path.split(path_name)\n",
        "        img_type = path_split[1]  # either 'clean which are masks' or 'render which are images'\n",
        "\n",
        "        #get the file number\n",
        "        if img_type == 'render' or img_type == 'ground':\n",
        "          file_num = f[6:10]\n",
        "        elif img_type == 'clean':\n",
        "          file_num = f[5:9]\n",
        "        else:\n",
        "          print(f\"unknown type {img_type}\")\n",
        "          return\n",
        "\n",
        "        if file_num in val_list:\n",
        "            target_folder = os.path.join(dest_dir, 'val')\n",
        "        elif file_num in test_list:\n",
        "            target_folder = os.path.join(dest_dir, 'test')\n",
        "        elif file_num in train_list:\n",
        "            target_folder = os.path.join(dest_dir, 'train')\n",
        "        else:\n",
        "          print(f\"unknown list for {file_num}\")\n",
        "          return\n",
        "\n",
        "        # copy all images\n",
        "        src = os.path.join(path_name, f)\n",
        "\n",
        "        # create patches\n",
        "        if img_type == 'render':\n",
        "            dest = os.path.join(target_folder, \"images\")\n",
        "            create_patches(src=src, dest_path=dest)\n",
        "\n",
        "        # copy all masks\n",
        "        if img_type == 'clean':\n",
        "            dest = os.path.join(target_folder, \"masks\")\n",
        "            create_patches(src=src, dest_path=dest)"
      ]
    },
    {
      "cell_type": "markdown",
      "metadata": {
        "id": "Daje9xbyJqaP"
      },
      "source": [
        "**PREPROCESSING**"
      ]
    },
    {
      "cell_type": "code",
      "execution_count": null,
      "metadata": {
        "id": "noUE_6oPsA-T"
      },
      "outputs": [],
      "source": [
        "data_dir = Path('drive/MyDrive/MoonImages/')\n",
        "working_dir = Path('drive/MyDrive/MoonWorking/')\n",
        "render_dir = data_dir/\"render/\"\n",
        "\n",
        "\n",
        "#delete_split_folders(working_dir)\n",
        "#create_split_folders(working_dir)\n",
        "train_list, val_list, test_list = split_train_test_val_folders(render_dir, train_ratio=0.7, val_ratio=0.15)\n",
        "preprocess_data(data_dir, working_dir, train_list, val_list, test_list)\n"
      ]
    },
    {
      "cell_type": "code",
      "source": [
        "tfms = transforms.Compose([\n",
        "    transforms.ToTensor(),\n",
        "    transforms.Normalize([0.485, 0.456, 0.406], [0.229, 0.224, 0.225]) # imagenet\n",
        "])\n",
        "\n"
      ],
      "metadata": {
        "id": "DGgQ8Qsoa1uy"
      },
      "execution_count": null,
      "outputs": []
    },
    {
      "cell_type": "markdown",
      "metadata": {
        "id": "42c2CVMUXMvl"
      },
      "source": [
        "**DATASET**"
      ]
    },
    {
      "cell_type": "code",
      "execution_count": null,
      "metadata": {
        "id": "_kWcPT7rKGpG"
      },
      "outputs": [],
      "source": [
        "\n",
        "class SegmentationDataset(Dataset):\n",
        "    \"\"\"Create Semantic Segmentation Dataset. Read images, apply augmentations, and process transformations\n",
        "\n",
        "    Args:\n",
        "        Dataset (image): Lunar Dataset\n",
        "    \"\"\"\n",
        "    # CLASSES = {'ground': 0, 'sky': 76, 'bigrocks':29, 'smallrocks':149}\n",
        "\n",
        "\n",
        "    def __init__(self, path_name) -> None:\n",
        "        super().__init__()\n",
        "        self.path_name = path_name\n",
        "        self.get_images_masks(path_name)\n",
        "\n",
        "    def get_images_masks(self, path_name):\n",
        "        image_names = os.listdir(f\"{path_name}/images\")\n",
        "        masks_names = os.listdir(f\"{path_name}/masks\")\n",
        "\n",
        "        # filter all images that do not exist in both folders\n",
        "        img_stem = [i.replace('render', '')for i in image_names]\n",
        "        msk_stem = [i.replace('clean', '')  for i in masks_names]\n",
        "        self.img_msk_stem = set(img_stem) & set(msk_stem)\n",
        "        self.image_paths = [f\"{path_name}/images/render{i}\" for i in self.img_msk_stem]\n",
        "        self.masks_paths = [f\"{path_name}/masks/clean{i}\" for i in self.img_msk_stem]\n",
        "\n",
        "    def encode_mask(self, mask):\n",
        "        #mask[mask == 0] = 0  # black ground\n",
        "        mask[mask == 76] = 1   # red sky\n",
        "        mask[mask == 29] = 2  # blue big rocks\n",
        "        mask[mask == 149] = 3  # green small rocks\n",
        "        return mask\n",
        "\n",
        "    def decode_mask(self, mask):\n",
        "        mask[mask == 1] = 76   # red sky\n",
        "        mask[mask == 2] = 29  # blue big rocks\n",
        "        mask[mask == 3] = 149  # green small rocks\n",
        "        return mask\n",
        "\n",
        "    def __len__(self):\n",
        "        return len(self.img_msk_stem)\n",
        "\n",
        "    def __getitem__(self, index):\n",
        "        image_path = self.image_paths[index]\n",
        "        mask_path = self.masks_paths[index]\n",
        "\n",
        "        image = cv2.imread(image_path)\n",
        "        if image is None:  # Check if image loading failed\n",
        "          print(f\"Failed to load image: {image_path}\")\n",
        "          return None  # Handle the error appropriately\n",
        "\n",
        "        image = cv2.cvtColor(image, cv2.COLOR_BGR2RGB)\n",
        "        image = image.transpose((2, 0, 1))  #structure: BS, C, H, W\n",
        "\n",
        "        mask = cv2.imread(mask_path, cv2.IMREAD_GRAYSCALE)\n",
        "        if mask is None:  # Check if mask loading failed\n",
        "            print(f\"Failed to load mask: {mask_path}\")\n",
        "            return None  # Handle the error appropriately\n",
        "\n",
        "        mask = self.encode_mask(mask)\n",
        "        return image, mask\n",
        "\n",
        "    def collate_fn(self, batch):\n",
        "        ims, masks = list(zip(*batch))\n",
        "        ims = torch.cat([tfms(im.copy()/255.)[None] for im in ims]).float().to(device)\n",
        "        ce_masks = torch.cat([torch.Tensor(mask[None]) for mask in masks]).long().to(device)\n",
        "        return ims, ce_masks\n",
        "\n"
      ]
    },
    {
      "cell_type": "code",
      "source": [
        "ce = nn.CrossEntropyLoss()\n",
        "def ResnextLoss(preds, targets):\n",
        "    ce_loss = ce(preds, targets)\n",
        "    acc = (torch.max(preds, 1)[1] == targets).float().mean()\n",
        "    return ce_loss, acc"
      ],
      "metadata": {
        "id": "yg9476oIoPrQ"
      },
      "execution_count": null,
      "outputs": []
    },
    {
      "cell_type": "markdown",
      "metadata": {
        "id": "BUgFx2K0r2vu"
      },
      "source": [
        "**MODEL SETUP**"
      ]
    },
    {
      "cell_type": "code",
      "execution_count": null,
      "metadata": {
        "id": "GZuV5osnS1mb"
      },
      "outputs": [],
      "source": [
        "\n",
        "# Hyperparameters\n",
        "\n",
        "BS = 4\n",
        "\n",
        "train_path_name = os.path.join(working_dir, 'train')\n",
        "val_path_name = os.path.join(working_dir, 'val')\n",
        "# Instantiate Dataset and Dataloader\n",
        "train_ds = SegmentationDataset(path_name=train_path_name)\n",
        "train_dataloader = DataLoader(train_ds, batch_size=BS, shuffle=True)\n",
        "val_ds = SegmentationDataset(path_name=val_path_name)\n",
        "val_dataloader = DataLoader(val_ds, batch_size=BS, shuffle=True)\n",
        "\n",
        "model = smp.FPN(encoder_name='resnext50_32x4d', encoder_weights='imagenet',\n",
        "                classes=4,activation='sigmoid').to(DEVICE)\n",
        "optimizer = torch.optim.Adam([dict(params=model.parameters(), lr=0.0001),])\n",
        "criterion = ResnextLoss\n",
        "#train_losses, val_losses = [], []\n",
        "\n"
      ]
    },
    {
      "cell_type": "markdown",
      "source": [
        "**UNTESTED TRAINING LOOP**"
      ],
      "metadata": {
        "id": "QFu7lTKqlV3D"
      }
    },
    {
      "cell_type": "code",
      "source": [
        "def train_batch(model, data, optimizer, criterion):\n",
        "    model.train()\n",
        "    ims, ce_masks = data\n",
        "    ims=ims.to(DEVICE).float()\n",
        "    ce_masks=ce_masks.to(DEVICE).long()\n",
        "    _masks = model(ims)\n",
        "    optimizer.zero_grad()\n",
        "    loss, acc = criterion(_masks, ce_masks)\n",
        "    loss.backward()\n",
        "    optimizer.step()\n",
        "    return loss.item(), acc.item()\n",
        "\n",
        "@torch.no_grad()\n",
        "def validate_batch(model, data, criterion):\n",
        "    model.eval()\n",
        "    ims, masks = data\n",
        "    ims=ims.to(DEVICE).float()\n",
        "    masks=masks.to(DEVICE).long()\n",
        "    _masks = model(ims)\n",
        "    loss, acc = criterion(_masks, masks)\n",
        "    return loss.item(), acc.item()"
      ],
      "metadata": {
        "id": "lMhyNE7Ciz3L"
      },
      "execution_count": null,
      "outputs": []
    },
    {
      "cell_type": "code",
      "source": [
        "n_epochs = 20\n",
        "\n",
        "log = Report(n_epochs)\n",
        "for ex in range(n_epochs):\n",
        "    N = len(train_dataloader)\n",
        "    for bx, data in enumerate(train_dataloader):\n",
        "        loss, acc = train_batch(model, data, optimizer, criterion)\n",
        "        log.record(ex+(bx+1)/N, trn_loss=loss, trn_acc=acc, end='\\r')\n",
        "\n",
        "    N = len(val_dataloader)\n",
        "    for bx, data in enumerate(val_dataloader):\n",
        "        loss, acc = validate_batch(model, data, criterion)\n",
        "        log.record(ex+(bx+1)/N, val_loss=loss, val_acc=acc, end='\\r')\n",
        "\n",
        "    log.report_avgs(ex+1)"
      ],
      "metadata": {
        "id": "t18C8mBBlLoj",
        "colab": {
          "base_uri": "https://localhost:8080/"
        },
        "outputId": "5ef116ba-9691-4168-9ba0-9912924dc4c2"
      },
      "execution_count": null,
      "outputs": [
        {
          "output_type": "stream",
          "name": "stdout",
          "text": [
            "EPOCH: 1.000  trn_loss: 0.784  val_acc: 0.961  val_loss: 0.783  trn_acc: 0.960  (490.50s - 9319.42s remaining)\n",
            "EPOCH: 2.000  trn_loss: 0.784  val_acc: 0.960  val_loss: 0.783  trn_acc: 0.960  (978.30s - 8804.68s remaining)\n",
            "EPOCH: 3.000  trn_loss: 0.783  val_acc: 0.960  val_loss: 0.783  trn_acc: 0.960  (1467.77s - 8317.34s remaining)\n",
            "EPOCH: 4.000  trn_loss: 0.783  val_acc: 0.960  val_loss: 0.783  trn_acc: 0.960  (1957.95s - 7831.81s remaining)\n",
            "EPOCH: 5.000  trn_loss: 0.783  val_acc: 0.960  val_loss: 0.784  trn_acc: 0.961  (2447.15s - 7341.46s remaining)\n",
            "EPOCH: 6.000  trn_loss: 0.783  val_acc: 0.959  val_loss: 0.784  trn_acc: 0.961  (2941.31s - 6863.05s remaining)\n",
            "EPOCH: 7.000  trn_loss: 0.783  val_acc: 0.961  val_loss: 0.783  trn_acc: 0.961  (3429.71s - 6369.47s remaining)\n",
            "EPOCH: 8.000  trn_loss: 0.783  val_acc: 0.961  val_loss: 0.783  trn_acc: 0.961  (3919.43s - 5879.15s remaining)\n",
            "EPOCH: 9.000  trn_loss: 0.783  val_acc: 0.961  val_loss: 0.782  trn_acc: 0.961  (4410.38s - 5390.47s remaining)\n",
            "EPOCH: 10.000  trn_loss: 0.783  val_acc: 0.961  val_loss: 0.783  trn_acc: 0.961  (4899.12s - 4899.12s remaining)\n",
            "EPOCH: 11.000  trn_loss: 0.783  val_acc: 0.961  val_loss: 0.783  trn_acc: 0.961  (5388.00s - 4408.36s remaining)\n",
            "EPOCH: 12.000  trn_loss: 0.783  val_acc: 0.961  val_loss: 0.783  trn_acc: 0.961  (5879.03s - 3919.35s remaining)\n",
            "EPOCH: 13.000  trn_loss: 0.783  val_acc: 0.961  val_loss: 0.783  trn_acc: 0.961  (6373.30s - 3431.78s remaining)\n",
            "EPOCH: 14.000  trn_loss: 0.783  val_acc: 0.961  val_loss: 0.783  trn_acc: 0.961  (6863.32s - 2941.42s remaining)\n",
            "EPOCH: 15.000  trn_loss: 0.783  val_acc: 0.961  val_loss: 0.783  trn_acc: 0.961  (7352.93s - 2450.98s remaining)\n",
            "EPOCH: 16.000  trn_loss: 0.783  val_acc: 0.961  val_loss: 0.783  trn_acc: 0.961  (7843.58s - 1960.89s remaining)\n",
            "EPOCH: 17.000  trn_loss: 0.783  val_acc: 0.961  val_loss: 0.783  trn_acc: 0.961  (8335.25s - 1470.93s remaining)\n",
            "EPOCH: 18.000  trn_loss: 0.783  val_acc: 0.958  val_loss: 0.785  trn_acc: 0.961  (8827.24s - 980.80s remaining)\n",
            "EPOCH: 19.000  trn_loss: 0.782  val_acc: 0.959  val_loss: 0.783  trn_acc: 0.961  (9315.66s - 490.30s remaining)\n",
            "EPOCH: 20.000  trn_loss: 0.781  val_acc: 0.960  val_loss: 0.781  trn_acc: 0.961  (9804.26s - 0.00s remaining)\n"
          ]
        }
      ]
    },
    {
      "cell_type": "code",
      "source": [
        "torch.save(model.state_dict(), f'models/FPN_epochs_{n_epochs}_crossentropy_state_dict.pth')"
      ],
      "metadata": {
        "id": "UtyrcWwZsuxl"
      },
      "execution_count": null,
      "outputs": []
    },
    {
      "cell_type": "code",
      "source": [
        "log.plot_epochs(['trn_loss','val_loss'])"
      ],
      "metadata": {
        "id": "10DJVE1Ul6EP",
        "colab": {
          "base_uri": "https://localhost:8080/",
          "height": 559
        },
        "outputId": "1dd5c378-c42e-4c39-a79b-c9992f1841b1"
      },
      "execution_count": null,
      "outputs": [
        {
          "output_type": "stream",
          "name": "stderr",
          "text": [
            "100%|██████████| 121/121 [00:04<00:00, 26.06it/s]\n"
          ]
        },
        {
          "output_type": "display_data",
          "data": {
            "text/plain": [
              "<Figure size 800x600 with 1 Axes>"
            ],
            "image/png": "[encoded data removed]"
          },
          "metadata": {}
        }
      ]
    },
    {
      "cell_type": "code",
      "source": [
        "im, mask = next(iter(val_dataloader))\n",
        "im = im.to(DEVICE).float()\n",
        "mask = mask.to(DEVICE)\n",
        "_mask = model(im)\n",
        "_, _mask = torch.max(_mask, dim=1)\n",
        "subplots([im[0].permute(1,2,0).detach().cpu()[:,:,0], mask.permute(1,2,0).detach().cpu()[:,:,0]\n",
        ",_mask.permute(1,2,0).detach().cpu()[:,:,0]],\n",
        "nc=3, titles=['Original image','Original mask','Predicted mask'])"
      ],
      "metadata": {
        "id": "RlBfEEaiosCs",
        "colab": {
          "base_uri": "https://localhost:8080/",
          "height": 206
        },
        "outputId": "ce8f7ff1-1ded-41bc-b2ca-b6179c031c5d"
      },
      "execution_count": null,
      "outputs": [
        {
          "output_type": "display_data",
          "data": {
            "text/plain": [
              "<Figure size 500x500 with 3 Axes>"
            ],
            "image/png": "[encoded data removed]"
          },
          "metadata": {}
        }
      ]
    },
    {
      "cell_type": "markdown",
      "metadata": {
        "id": "6inyswN7sQGk"
      },
      "source": [
        "**Test LOOP**"
      ]
    },
    {
      "cell_type": "code",
      "execution_count": null,
      "metadata": {
        "id": "Ye49aslzWAS2"
      },
      "outputs": [],
      "source": [
        "\n",
        "\n",
        "test_path_name = os.path.join(working_dir, 'test')\n",
        "#%% Dataset and Dataloader\n",
        "test_ds = SegmentationDataset(path_name=test_path_name)\n",
        "test_dataloader = DataLoader(test_ds, batch_size=1, shuffle=True)\n",
        "\n",
        "#Model setup\n",
        "model = smp.FPN(\n",
        "    encoder_name=\"resnext50_32x4d\",\n",
        "    encoder_weights='imagenet',\n",
        "    classes=4,\n",
        "    activation='sigmoid',\n",
        ")\n",
        "model.to(DEVICE)\n",
        "\n",
        "#%% load weights\n",
        "model.load_state_dict(torch.load(f'models/FPN_epochs_{n_epochs}_crossentropy_state_dict.pth'))\n",
        "\n",
        "#%% Model Evaluation\n",
        "pixel_accuracies = []\n",
        "intersection_over_unions = []\n",
        "metric_iou = torchmetrics.JaccardIndex(num_classes=4, task='multiclass').to(DEVICE)\n",
        "\n",
        "with torch.no_grad():\n",
        "    for data in test_dataloader:\n",
        "        inputs, outputs = data\n",
        "        true = outputs.to(torch.float32)\n",
        "        pred = model(inputs.to(DEVICE).float())\n",
        "        _, predicted = torch.max(pred, 1)\n",
        "        true = true.to(DEVICE)\n",
        "        correct_pixels = (true == predicted).sum().item()\n",
        "        total_pixels = true.size(1) * true.size(2)\n",
        "        pixel_accuracies.append(correct_pixels / total_pixels)\n",
        "        iou = metric_iou(predicted.float(), true).item()\n",
        "        intersection_over_unions.append(iou)\n",
        "\n",
        "# Median Accuracy\n",
        "print(f\"Median Pixel Accuracy: {np.median(pixel_accuracies) * 100 }\")\n",
        "print(f\"Median IoU: {np.median(intersection_over_unions) * 100 }\")\n",
        "\n",
        "# Pick a test image and show it\n",
        "image_test, mask = next(iter(test_dataloader))\n",
        "plt.imshow(np.transpose(image_test[0, :, :, :].cpu().numpy(), (1, 2, 0)))\n",
        "\n",
        "#\\ EVALUATE MODEL\n",
        "# create preds\n",
        "with torch.no_grad():\n",
        "    image_test = image_test.float().to(DEVICE)\n",
        "    output = model(image_test)\n",
        "\n",
        "#%%\n",
        "output_cpu = output.cpu().squeeze().numpy()\n",
        "output_cpu = output_cpu.transpose((1, 2, 0))\n",
        "output_cpu = output_cpu.argmax(axis=2)\n",
        "output_cpu.shape\n",
        "#%% trick to cover all classes\n",
        "# use at least one pixel for each class for both images\n",
        "required_range = list(range(4))\n",
        "output_cpu[0, 0] = 0\n",
        "output_cpu[0, 1] = 1\n",
        "output_cpu[0, 2] = 2\n",
        "output_cpu[0, 3] = 3\n",
        "\n",
        "\n",
        "mask[0, 0, 0] = 0\n",
        "mask[0, 0, 1] = 1\n",
        "mask[0, 0, 2] = 2\n",
        "mask[0, 0, 3] = 3\n",
        "\n",
        "#%%\n",
        "fig, axs = plt.subplots(nrows=1, ncols=2)\n",
        "fig.suptitle('True and Predicted Mask')\n",
        "axs[0].imshow(mask[0, :, :])\n",
        "axs[1].imshow(output_cpu)\n",
        "axs[0].set_title(\"True Mask\")\n",
        "axs[1].set_title(\"Predicted Mask\")\n",
        "plt.show()\n",
        "# %%\n"
      ]
    },
    {
      "cell_type": "code",
      "source": [
        "@torch.no_grad()\n",
        "def validate_batch(model, data, criterion):\n",
        "    model.eval()\n",
        "    ims, masks = data\n",
        "    ims=ims.to(DEVICE).float()\n",
        "    masks=masks.to(DEVICE).long()\n",
        "    _masks = model(ims)\n",
        "    loss, acc = criterion(_masks, masks)\n",
        "    return loss.item(), acc.item()"
      ],
      "metadata": {
        "id": "RbpeHaFD1miq"
      },
      "execution_count": null,
      "outputs": []
    },
    {
      "cell_type": "code",
      "source": [
        "# Pick a test image and show it\n",
        "image_test, mask = next(iter(test_dataloader))\n",
        "plt.imshow(np.transpose(image_test[0, :, :, :].cpu().numpy(), (1, 2, 0)))\n",
        "\n",
        "#\\ EVALUATE MODEL\n",
        "# create preds\n",
        "with torch.no_grad():\n",
        "    image_test = image_test.float().to(DEVICE)\n",
        "    output = model(image_test)\n",
        "\n",
        "#%%\n",
        "output_cpu = output.cpu().squeeze().numpy()\n",
        "output_cpu = output_cpu.transpose((1, 2, 0))\n",
        "output_cpu = output_cpu.argmax(axis=2)\n",
        "output_cpu.shape\n",
        "#%% trick to cover all classes\n",
        "# use at least one pixel for each class for both images\n",
        "required_range = list(range(4))\n",
        "output_cpu[0, 0] = 0\n",
        "output_cpu[0, 1] = 1\n",
        "output_cpu[0, 2] = 2\n",
        "output_cpu[0, 3] = 3\n",
        "\n",
        "\n",
        "mask[0, 0, 0] = 0\n",
        "mask[0, 0, 1] = 1\n",
        "mask[0, 0, 2] = 2\n",
        "mask[0, 0, 3] = 3\n",
        "\n",
        "#%%\n",
        "fig, axs = plt.subplots(nrows=1, ncols=2)\n",
        "fig.suptitle('True and Predicted Mask')\n",
        "axs[0].imshow(mask[0, :, :])\n",
        "axs[1].imshow(output_cpu)\n",
        "axs[0].set_title(\"True Mask\")\n",
        "axs[1].set_title(\"Predicted Mask\")\n",
        "plt.show()\n",
        "# %%\n"
      ],
      "metadata": {
        "id": "365fqfoj13ty"
      },
      "execution_count": null,
      "outputs": []
    },
    {
      "cell_type": "code",
      "source": [
        "# Pick a test image and show it\n",
        "image_test, mask = next(iter(test_dataloader))\n",
        "plt.imshow(np.transpose(image_test[0, :, :, :].cpu().numpy(), (1, 2, 0)))\n",
        "\n",
        "#\\ EVALUATE MODEL\n",
        "# create preds\n",
        "with torch.no_grad():\n",
        "    image_test = image_test.float().to(DEVICE)\n",
        "    output = model(image_test)\n",
        "\n",
        "#%%\n",
        "output_cpu = output.cpu().squeeze().numpy()\n",
        "output_cpu = output_cpu.transpose((1, 2, 0))\n",
        "output_cpu = output_cpu.argmax(axis=2)\n",
        "output_cpu.shape\n",
        "#%% trick to cover all classes\n",
        "# use at least one pixel for each class for both images\n",
        "required_range = list(range(4))\n",
        "output_cpu[0, 0] = 0\n",
        "output_cpu[0, 1] = 1\n",
        "output_cpu[0, 2] = 2\n",
        "output_cpu[0, 3] = 3\n",
        "\n",
        "\n",
        "mask[0, 0, 0] = 0\n",
        "mask[0, 0, 1] = 1\n",
        "mask[0, 0, 2] = 2\n",
        "mask[0, 0, 3] = 3\n",
        "\n",
        "#%%\n",
        "fig, axs = plt.subplots(nrows=1, ncols=2)\n",
        "fig.suptitle('True and Predicted Mask')\n",
        "axs[0].imshow(mask[0, :, :])\n",
        "axs[1].imshow(output_cpu)\n",
        "axs[0].set_title(\"True Mask\")\n",
        "axs[1].set_title(\"Predicted Mask\")\n",
        "plt.show()\n",
        "# %%\n"
      ],
      "metadata": {
        "id": "46I7LmfJ6rSY"
      },
      "execution_count": null,
      "outputs": []
    },
    {
      "cell_type": "code",
      "source": [
        "output_cpu = output.cpu().squeeze().numpy()\n",
        "output_cpu = output_cpu.transpose((1, 2, 0))\n",
        "output_cpu = output_cpu.argmax(axis=2)\n",
        "output_cpu.shape\n",
        "#%% trick to cover all classes\n",
        "# use at least one pixel for each class for both images\n",
        "required_range = list(range(4))\n",
        "output_cpu[0, 0] = 0\n",
        "output_cpu[0, 1] = 1\n",
        "output_cpu[0, 2] = 2\n",
        "output_cpu[0, 3] = 3\n",
        "\n",
        "\n",
        "mask[0, 0, 0] = 0\n",
        "mask[0, 0, 1] = 1\n",
        "mask[0, 0, 2] = 2\n",
        "mask[0, 0, 3] = 3\n",
        "\n",
        "#%%\n",
        "fig, axs = plt.subplots(nrows=1, ncols=2)\n",
        "fig.suptitle('True and Predicted Mask')\n",
        "axs[0].imshow(mask[0, :, :])\n",
        "axs[1].imshow(output_cpu)\n",
        "axs[0].set_title(\"True Mask\")\n",
        "axs[1].set_title(\"Predicted Mask\")\n",
        "plt.show()"
      ],
      "metadata": {
        "colab": {
          "base_uri": "https://localhost:8080/",
          "height": 406
        },
        "id": "Zx1Z9IgY7K3H",
        "outputId": "f3a004ed-cec2-47b8-da10-4546a901471a"
      },
      "execution_count": null,
      "outputs": [
        {
          "output_type": "display_data",
          "data": {
            "text/plain": [
              "<Figure size 640x480 with 2 Axes>"
            ],
            "image/png": "[encoded data removed]"
          },
          "metadata": {}
        }
      ]
    }
  ],
  "metadata": {
    "colab": {
      "provenance": [],
      "gpuType": "T4"
    },
    "kernelspec": {
      "display_name": "Python 3",
      "name": "python3"
    },
    "language_info": {
      "name": "python"
    },
    "accelerator": "GPU"
  },
  "nbformat": 4,
  "nbformat_minor": 0
}